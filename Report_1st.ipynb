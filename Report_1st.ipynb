{
  "nbformat": 4,
  "nbformat_minor": 0,
  "metadata": {
    "colab": {
      "provenance": [],
      "authorship_tag": "ABX9TyP4mmheXVjIBiOmXLTmeWBY",
      "include_colab_link": true
    },
    "kernelspec": {
      "name": "python3",
      "display_name": "Python 3"
    },
    "language_info": {
      "name": "python"
    }
  },
  "cells": [
    {
      "cell_type": "markdown",
      "metadata": {
        "id": "view-in-github",
        "colab_type": "text"
      },
      "source": [
        "<a href=\"https://colab.research.google.com/github/han2405/22_05_1st_Report/blob/main/Report_1st.ipynb\" target=\"_parent\"><img src=\"https://colab.research.google.com/assets/colab-badge.svg\" alt=\"Open In Colab\"/></a>"
      ]
    },
    {
      "cell_type": "markdown",
      "source": [
        "1번 문제"
      ],
      "metadata": {
        "id": "NhkMQe1w_aoN"
      }
    },
    {
      "cell_type": "code",
      "execution_count": 1,
      "metadata": {
        "colab": {
          "base_uri": "https://localhost:8080/"
        },
        "id": "Kky4rCE95ioG",
        "outputId": "94c3645b-c41d-4ec8-b416-20abd85acc11"
      },
      "outputs": [
        {
          "output_type": "stream",
          "name": "stdout",
          "text": [
            "환영합니다.\n",
            "파이썬의 세계에 오신 것을 환영합니다.\n",
            "파이썬은 강력합니다.\n"
          ]
        }
      ],
      "source": [
        "print(\"환영합니다.\")\n",
        "print(\"파이썬의 세계에 오신 것을 환영합니다.\")\n",
        "print(\"파이썬은 강력합니다.\")"
      ]
    },
    {
      "cell_type": "markdown",
      "source": [
        "2번 문제"
      ],
      "metadata": {
        "id": "DM7zEwKd_wTF"
      }
    },
    {
      "cell_type": "code",
      "source": [
        "print(\"반갑습니다. 파이썬!\")\n",
        "print(2*3/10)\n",
        "print(\"Hello\",\"world\",\"!!!\")"
      ],
      "metadata": {
        "colab": {
          "base_uri": "https://localhost:8080/"
        },
        "id": "9YgYYbMY7lj6",
        "outputId": "b1678238-48ae-4ba7-afb0-4a9cd3a5d59a"
      },
      "execution_count": 2,
      "outputs": [
        {
          "output_type": "stream",
          "name": "stdout",
          "text": [
            "반갑습니다. 파이썬!\n",
            "0.6\n",
            "Hello world !!!\n"
          ]
        }
      ]
    },
    {
      "cell_type": "markdown",
      "source": [
        "3번 문제"
      ],
      "metadata": {
        "id": "rRZbK3Qj_xkr"
      }
    },
    {
      "cell_type": "code",
      "source": [
        "7*24 #또는 print(7*24)"
      ],
      "metadata": {
        "colab": {
          "base_uri": "https://localhost:8080/"
        },
        "id": "wluTN7_c8Do-",
        "outputId": "0712d518-c052-4acf-a5e4-e3eeba5ff015"
      },
      "execution_count": 4,
      "outputs": [
        {
          "output_type": "execute_result",
          "data": {
            "text/plain": [
              "168"
            ]
          },
          "metadata": {},
          "execution_count": 4
        }
      ]
    },
    {
      "cell_type": "markdown",
      "source": [
        "4번 문제"
      ],
      "metadata": {
        "id": "TERX3Ew2ADF0"
      }
    },
    {
      "cell_type": "markdown",
      "source": [
        "<pre>import turtle \n",
        "t=turtle.Turtle() \n",
        "t.shape(\"turtle\") \n",
        "t.forward(100) \n",
        "t.left(90) \n",
        "t.forward(100) \n",
        "t.right(90) \n",
        "t.forward(100) \n",
        "t.right(90) \n",
        "t.forward(100) \n",
        "t.left(90) \n",
        "t.forward(100) \n",
        "\n",
        "#Visual Studio Code 라면 마지막에 t.exitonclick() 를 추가하여 클릭 시 종료되도록 할 수 있습니다. 저는 idle로 작성했습니다.\n",
        "</pre>"
      ],
      "metadata": {
        "id": "e7OeS30vCwEU"
      }
    },
    {
      "cell_type": "code",
      "source": [
        "import turtle\n",
        "t=turtle.Turtle()\n",
        "t.shape(\"turtle\")\n",
        "t.forward(100)\n",
        "t.left(90)\n",
        "t.forward(100)\n",
        "t.right(90)\n",
        "t.forward(100)\n",
        "t.right(90)\n",
        "t.forward(100)\n",
        "t.left(90)\n",
        "t.forward(100)\n",
        "#코랩에서는 실행되지 않지만 같이 적어두겠습니다."
      ],
      "metadata": {
        "id": "i0RCnRV_ExUn"
      },
      "execution_count": null,
      "outputs": []
    }
  ]
}